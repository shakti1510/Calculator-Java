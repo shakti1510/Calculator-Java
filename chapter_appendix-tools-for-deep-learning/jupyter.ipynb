{
  "cells": [
    {
      "cell_type": "code",
      "source": [
        "# prompt: Generate me a code on Birthday paradox explaining in the comments about the code in blocks\n",
        "\n",
        "import random\n",
        "\n",
        "# Function to simulate a single experiment of the birthday paradox\n",
        "def birthday_paradox(num_people):\n",
        "    \"\"\"\n",
        "    This function simulates a single experiment of the birthday paradox.\n",
        "    It generates random birthdays for a given number of people and checks if any two people share the same birthday.\n",
        "\n",
        "    Args:\n",
        "        num_people: The number of people in the experiment.\n",
        "\n",
        "    Returns:\n",
        "        True if at least two people share a birthday, False otherwise.\n",
        "    \"\"\"\n",
        "    birthdays = []\n",
        "    for _ in range(num_people):\n",
        "        birthdays.append(random.randint(1, 365))  # Simulate a random birthday (ignoring leap years)\n",
        "    return len(birthdays) != len(set(birthdays))\n",
        "\n",
        "\n",
        "# Function to run multiple simulations of the birthday paradox\n",
        "def run_simulations(num_people, num_simulations):\n",
        "    \"\"\"\n",
        "    Runs multiple simulations of the birthday paradox and calculates the probability of at least two people sharing a birthday.\n",
        "\n",
        "    Args:\n",
        "        num_people: The number of people in each simulation.\n",
        "        num_simulations: The number of simulations to run.\n",
        "\n",
        "    Returns:\n",
        "        The probability (as a decimal) of at least two people sharing a birthday.\n",
        "    \"\"\"\n",
        "    shared_birthdays = 0\n",
        "    for _ in range(num_simulations):\n",
        "        if birthday_paradox(num_people):\n",
        "            shared_birthdays += 1\n",
        "    return shared_birthdays / num_simulations\n",
        "\n",
        "# Main code to run the simulations and print the results\n",
        "if __name__ == \"__main__\":\n",
        "  # Number of people to simulate\n",
        "  num_people = int(input(\"Enter the number of people\")) # Experiment with this value (e.g., 23, 50, 100)\n",
        "\n",
        "  # Number of simulations to run to get a good approximation\n",
        "  num_simulations = 10000\n",
        "\n",
        "  # Run the simulation and print the result\n",
        "  probability = run_simulations(num_people, num_simulations)\n",
        "  print(f\"The probability of at least two people sharing a birthday among {num_people} people is approximately: {probability}\")"
      ],
      "metadata": {
        "id": "Ioeaj2VVrWkP",
        "outputId": "58beca9b-2003-4461-c115-f916544a0cea",
        "colab": {
          "base_uri": "https://localhost:8080/"
        }
      },
      "id": "Ioeaj2VVrWkP",
      "execution_count": 2,
      "outputs": [
        {
          "output_type": "stream",
          "name": "stdout",
          "text": [
            "Enter the number of people56\n",
            "The probability of at least two people sharing a birthday among 56 people is approximately: 0.9882\n"
          ]
        }
      ]
    },
    {
      "cell_type": "code",
      "source": [
        "# prompt: Generate a simple code that must calculate birthyear using the birthday in format(DD/MM/YYYY) and print the exact age(year, month ,and no of days) with the Day of birth with the statement using fstring\n",
        "\n",
        "from datetime import datetime, date\n",
        "\n",
        "def calculate_age(birthdate_str):\n",
        "    \"\"\"Calculates age given a birthdate string in DD/MM/YYYY format.\"\"\"\n",
        "    try:\n",
        "        birthdate = datetime.strptime(birthdate_str, \"%d/%m/%Y\").date()\n",
        "    except ValueError:\n",
        "        return \"Invalid date format. Please use DD/MM/YYYY.\"\n",
        "\n",
        "    today = date.today()\n",
        "    age_years = today.year - birthdate.year - ((today.month, today.day) < (birthdate.month, birthdate.day))\n",
        "\n",
        "    #Calculate months\n",
        "    age_months = today.month - birthdate.month\n",
        "    if today.day < birthdate.day:\n",
        "        age_months -= 1\n",
        "\n",
        "    if age_months < 0:\n",
        "        age_years -=1\n",
        "        age_months += 12\n",
        "\n",
        "    #Calculate days\n",
        "    import calendar\n",
        "\n",
        "    days_in_birth_month = calendar.monthrange(today.year, birthdate.month)[1]\n",
        "    if today.day >= birthdate.day:\n",
        "      age_days = today.day - birthdate.day\n",
        "    else:\n",
        "      age_days = (days_in_birth_month - birthdate.day) + today.day\n",
        "\n",
        "    return f\"Your age is {age_years} years, {age_months} months, and {age_days} days. Your birthday is on {birthdate.strftime('%d/%m/%Y')}\"\n",
        "\n",
        "\n",
        "if __name__ == \"__main__\":\n",
        "    birthdate_input = input(\"Enter your birthdate in DD/MM/YYYY format: \")\n",
        "    age_info = calculate_age(birthdate_input)\n",
        "age_info"
      ],
      "metadata": {
        "id": "bYgcb3rgsy93",
        "outputId": "4877af14-41a8-45e6-e533-5bae7de5e596",
        "colab": {
          "base_uri": "https://localhost:8080/",
          "height": 53
        }
      },
      "id": "bYgcb3rgsy93",
      "execution_count": 10,
      "outputs": [
        {
          "name": "stdout",
          "output_type": "stream",
          "text": [
            "Enter your birthdate in DD/MM/YYYY format: 15/10/2002\n"
          ]
        },
        {
          "output_type": "execute_result",
          "data": {
            "text/plain": [
              "'Your age is 21 years, 3 months, and 15 days. Your birthday is on 15/10/2002'"
            ],
            "application/vnd.google.colaboratory.intrinsic+json": {
              "type": "string"
            }
          },
          "metadata": {},
          "execution_count": 10
        }
      ]
    },
    {
      "cell_type": "code",
      "source": [
        "import datetime\n",
        "age =int(input(\"Enter your Age:\"))\n",
        "if age>0:\n",
        "  birth_year= datetime.datetime.now().year - age\n",
        "  print(f\"The birth year is {birth_year}\")\n",
        "else:\n",
        "  print(\"Invalid Age\")\n"
      ],
      "metadata": {
        "id": "aN4V2NpwthbO",
        "outputId": "afdb1806-61f5-46ce-ddbc-450cfcc38b41",
        "colab": {
          "base_uri": "https://localhost:8080/"
        }
      },
      "id": "aN4V2NpwthbO",
      "execution_count": 9,
      "outputs": [
        {
          "output_type": "stream",
          "name": "stdout",
          "text": [
            "Enter your Age:69\n",
            "The birth year is 1956\n"
          ]
        }
      ]
    },
    {
      "cell_type": "code",
      "source": [
        "number = [2,-4,89,-74,68]\n",
        "for num in number:\n",
        "  if num < 0:\n",
        "    print(num,\" is a negetive number\")\n",
        "  else:\n",
        "    print(num , \"is a positive number\")"
      ],
      "metadata": {
        "id": "M7dYxkSiunmp"
      },
      "id": "M7dYxkSiunmp",
      "execution_count": 7,
      "outputs": []
    }
  ],
  "metadata": {
    "kernelspec": {
      "display_name": "Python 3",
      "name": "python3"
    },
    "language_info": {
      "name": "python"
    },
    "required_libs": [],
    "colab": {
      "provenance": []
    }
  },
  "nbformat": 4,
  "nbformat_minor": 5
}